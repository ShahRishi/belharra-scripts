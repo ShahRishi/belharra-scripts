{
 "cells": [
  {
   "cell_type": "code",
   "execution_count": 4,
   "id": "370d8fdf-db98-4b8e-9e9d-9aaed5c0917f",
   "metadata": {},
   "outputs": [],
   "source": [
    "import pandas as pd"
   ]
  },
  {
   "cell_type": "code",
   "execution_count": 6,
   "id": "767b5935-ca2a-4ec4-8e26-3e7dc1f22318",
   "metadata": {},
   "outputs": [],
   "source": [
    "df = pd.read_csv('../data/noncompetition.csv', header=None)\n",
    "\n",
    "block_size = 13\n",
    "\n",
    "cols = [df.iloc[:, i:i+block_size].reset_index(drop=True) for i in range(0, df.shape[1], block_size)]\n",
    "\n",
    "for col in cols:\n",
    "    col.columns = range(col.columns.size)\n",
    "\n",
    "stacked_df = pd.concat(cols, axis=0, ignore_index=True)\n",
    "stacked_df.head()\n",
    "cleaned_df = stacked_df.dropna(how='all')\n",
    "splits = [cleaned_df.iloc[i:i+10] for i in range(0, len(cleaned_df), 10)]"
   ]
  },
  {
   "cell_type": "code",
   "execution_count": 19,
   "id": "6f98028d",
   "metadata": {},
   "outputs": [],
   "source": [
    "reset_splits = []\n",
    "for split in splits:\n",
    "    split = split.reset_index(drop=True)\n",
    "    reset_splits.append(split)"
   ]
  },
  {
   "cell_type": "code",
   "execution_count": 23,
   "id": "eaba4850",
   "metadata": {},
   "outputs": [
    {
     "data": {
      "text/html": [
       "<div>\n",
       "<style scoped>\n",
       "    .dataframe tbody tr th:only-of-type {\n",
       "        vertical-align: middle;\n",
       "    }\n",
       "\n",
       "    .dataframe tbody tr th {\n",
       "        vertical-align: top;\n",
       "    }\n",
       "\n",
       "    .dataframe thead th {\n",
       "        text-align: right;\n",
       "    }\n",
       "</style>\n",
       "<table border=\"1\" class=\"dataframe\">\n",
       "  <thead>\n",
       "    <tr style=\"text-align: right;\">\n",
       "      <th></th>\n",
       "      <th>Sample ID</th>\n",
       "      <th>Well Number</th>\n",
       "      <th>Concentration</th>\n",
       "      <th>Solvent</th>\n",
       "      <th>Units</th>\n",
       "    </tr>\n",
       "  </thead>\n",
       "  <tbody>\n",
       "    <tr>\n",
       "      <th>0</th>\n",
       "      <td>BTX0158233</td>\n",
       "      <td>A1</td>\n",
       "      <td>1.0</td>\n",
       "      <td>DMSO</td>\n",
       "      <td>µM</td>\n",
       "    </tr>\n",
       "    <tr>\n",
       "      <th>1</th>\n",
       "      <td>BTX0158233</td>\n",
       "      <td>A2</td>\n",
       "      <td>50</td>\n",
       "      <td>DMSO</td>\n",
       "      <td>µM</td>\n",
       "    </tr>\n",
       "    <tr>\n",
       "      <th>2</th>\n",
       "      <td>BTX0158233</td>\n",
       "      <td>B1</td>\n",
       "      <td>1.0</td>\n",
       "      <td>DMSO</td>\n",
       "      <td>µM</td>\n",
       "    </tr>\n",
       "    <tr>\n",
       "      <th>3</th>\n",
       "      <td>BTX0158233</td>\n",
       "      <td>B2</td>\n",
       "      <td>50</td>\n",
       "      <td>DMSO</td>\n",
       "      <td>µM</td>\n",
       "    </tr>\n",
       "    <tr>\n",
       "      <th>4</th>\n",
       "      <td>BTX0158233</td>\n",
       "      <td>C1</td>\n",
       "      <td>5.0</td>\n",
       "      <td>DMSO</td>\n",
       "      <td>µM</td>\n",
       "    </tr>\n",
       "  </tbody>\n",
       "</table>\n",
       "</div>"
      ],
      "text/plain": [
       "    Sample ID Well Number Concentration Solvent Units\n",
       "0  BTX0158233          A1           1.0    DMSO    µM\n",
       "1  BTX0158233          A2            50    DMSO    µM\n",
       "2  BTX0158233          B1           1.0    DMSO    µM\n",
       "3  BTX0158233          B2            50    DMSO    µM\n",
       "4  BTX0158233          C1           5.0    DMSO    µM"
      ]
     },
     "execution_count": 23,
     "metadata": {},
     "output_type": "execute_result"
    }
   ],
   "source": [
    "output = pd.DataFrame()\n",
    "\n",
    "for df in reset_splits:\n",
    "    sample_id = df.iloc[0, 0]\n",
    "    solvent = df.iloc[0, 3]\n",
    "    units = df.iloc[1, 0]\n",
    "\n",
    "    results = []\n",
    "\n",
    "    for i in range(2, len(df)):\n",
    "        for j in range(1, len(df.columns)):\n",
    "            well_name = df.iloc[i, 0] + str(df.columns[j])\n",
    "            concentration = df.iloc[i, j]\n",
    "            if pd.notna(concentration):\n",
    "                result = {\n",
    "                    \"Sample ID\": sample_id,\n",
    "                    \"Well Number\": well_name,\n",
    "                    \"Concentration\": concentration,\n",
    "                    \"Solvent\": solvent,\n",
    "                    \"Units\": units\n",
    "                }\n",
    "                results.append(result)\n",
    "\n",
    "    temp_df = pd.DataFrame(results)\n",
    "    output = pd.concat([output, temp_df], ignore_index=True)\n",
    "\n",
    "output.head()\n"
   ]
  },
  {
   "cell_type": "code",
   "execution_count": 25,
   "id": "c33f06c0",
   "metadata": {},
   "outputs": [],
   "source": [
    "output.to_csv('results.csv')"
   ]
  },
  {
   "cell_type": "code",
   "execution_count": null,
   "id": "ef1e6d5f",
   "metadata": {},
   "outputs": [],
   "source": []
  }
 ],
 "metadata": {
  "kernelspec": {
   "display_name": "Python 3 (ipykernel)",
   "language": "python",
   "name": "python3"
  },
  "language_info": {
   "codemirror_mode": {
    "name": "ipython",
    "version": 3
   },
   "file_extension": ".py",
   "mimetype": "text/x-python",
   "name": "python",
   "nbconvert_exporter": "python",
   "pygments_lexer": "ipython3",
   "version": "3.12.3"
  }
 },
 "nbformat": 4,
 "nbformat_minor": 5
}
